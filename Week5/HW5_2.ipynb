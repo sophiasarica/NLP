{
  "nbformat": 4,
  "nbformat_minor": 0,
  "metadata": {
    "colab": {
      "provenance": []
    },
    "kernelspec": {
      "name": "python3",
      "display_name": "Python 3"
    },
    "language_info": {
      "name": "python"
    }
  },
  "cells": [
    {
      "cell_type": "markdown",
      "source": [
        "Exercise 2. Sentiment Analysis\n",
        "\n",
        "What is the overall sentiment of the ‘spaceX.txt’ text? Provide the compound, negative,\n",
        "neutral, and positive metrics. Is the text more ‘subjective’ or more ‘objective’?"
      ],
      "metadata": {
        "id": "3yx9_OOLekoV"
      }
    },
    {
      "cell_type": "code",
      "source": [
        "from textblob import TextBlob\n"
      ],
      "metadata": {
        "id": "EJ3tFK1hhr7n"
      },
      "execution_count": 4,
      "outputs": []
    },
    {
      "cell_type": "code",
      "source": [
        "pip install vaderSentiment\n"
      ],
      "metadata": {
        "colab": {
          "base_uri": "https://localhost:8080/"
        },
        "id": "H5uYbxgMhzZl",
        "outputId": "46d7221f-9273-4b58-d4e7-c0091b1e71ed"
      },
      "execution_count": 6,
      "outputs": [
        {
          "output_type": "stream",
          "name": "stdout",
          "text": [
            "Collecting vaderSentiment\n",
            "  Downloading vaderSentiment-3.3.2-py2.py3-none-any.whl (125 kB)\n",
            "\u001b[?25l     \u001b[90m━━━━━━━━━━━━━━━━━━━━━━━━━━━━━━━━━━━━━━━━\u001b[0m \u001b[32m0.0/126.0 kB\u001b[0m \u001b[31m?\u001b[0m eta \u001b[36m-:--:--\u001b[0m\r\u001b[2K     \u001b[90m━━━━━━━━━━━━━━━━━━━━━━━━━━━━━━━━━━━━━━━━\u001b[0m \u001b[32m126.0/126.0 kB\u001b[0m \u001b[31m3.7 MB/s\u001b[0m eta \u001b[36m0:00:00\u001b[0m\n",
            "\u001b[?25hRequirement already satisfied: requests in /usr/local/lib/python3.10/dist-packages (from vaderSentiment) (2.31.0)\n",
            "Requirement already satisfied: charset-normalizer<4,>=2 in /usr/local/lib/python3.10/dist-packages (from requests->vaderSentiment) (3.3.2)\n",
            "Requirement already satisfied: idna<4,>=2.5 in /usr/local/lib/python3.10/dist-packages (from requests->vaderSentiment) (3.6)\n",
            "Requirement already satisfied: urllib3<3,>=1.21.1 in /usr/local/lib/python3.10/dist-packages (from requests->vaderSentiment) (2.0.7)\n",
            "Requirement already satisfied: certifi>=2017.4.17 in /usr/local/lib/python3.10/dist-packages (from requests->vaderSentiment) (2024.2.2)\n",
            "Installing collected packages: vaderSentiment\n",
            "Successfully installed vaderSentiment-3.3.2\n"
          ]
        }
      ]
    },
    {
      "cell_type": "code",
      "source": [
        "from vaderSentiment.vaderSentiment import SentimentIntensityAnalyzer\n"
      ],
      "metadata": {
        "id": "YK_FMCMBiIpt"
      },
      "execution_count": 7,
      "outputs": []
    },
    {
      "cell_type": "code",
      "execution_count": 8,
      "metadata": {
        "id": "LEfdYzjweipv"
      },
      "outputs": [],
      "source": [
        "\n",
        "# Define the text from the 'spaceX.txt' file\n",
        "text = \"\"\"\n",
        "SpaceX CEO Elon Musk said on Friday that he would activate the firm's satellite internet service, Starlink, in response\n",
        "to U.S. Secretary of State Antony Blinken's tweet that the United States took action \"to advance internet freedom and the\n",
        "free flow of information\" to Iranians. The U.S. Treasury Department on Friday issued guidance expanding internet services\n",
        "available to Iranians despite U.S. sanctions on the country, amid protests around Iran following the death of a 22-year-old\n",
        "woman in custody. A Treasury official briefing reporters said: \"Our understanding of Starlink is that what they provide\n",
        "would be commercial grade, and it would be hardware that's not covered in the general license; so that would be something\n",
        "they would need to write into Treasury for.\" A U.S. State Department spokesperson later said of Friday's updated license\n",
        "that it was self-executing and that \"anyone who meets the criteria outlined in this general license can proceed with their\n",
        "activities without requesting additional permissions.\" Musk could not be reached for comments or clarification regarding\n",
        "Starlink's clearance to operate in Iran. Iranians have been protesting over the death of Mahsa Amini last week while in\n",
        "police custody after being arrested by the morality police for wearing \"unsuitable attire\". Musk said on Monday that the\n",
        "company wanted to provide Starlink satellite broadband service - already provided to Ukraine for its fight against Russia's\n",
        "invasion - to Iranians, and would ask for a sanctions exception. The U.S. State Department spokesperson added that if SpaceX\n",
        "were to determine that some activity aimed at Iranians requires a specific license, \"OFAC would welcome it and prioritize\n",
        "it\". \"By the same token, if SpaceX determines that its activity is already authorized and has any questions, OFAC also\n",
        "welcomes that engagement,\" the State Department spokesperson said.\n",
        "\"\"\"\n",
        "\n"
      ]
    },
    {
      "cell_type": "code",
      "source": [
        "# Initialize VADER SentimentIntensityAnalyzer\n",
        "vader_analyzer = SentimentIntensityAnalyzer()\n",
        "\n",
        "# Analyze sentiment with VADER\n",
        "vader_sentiment = vader_analyzer.polarity_scores(text)\n",
        "\n",
        "# Analyze subjectivity with TextBlob\n",
        "text_blob = TextBlob(text)\n",
        "subjectivity = text_blob.sentiment.subjectivity\n",
        "\n",
        "# Return sentiment scores and subjectivity\n",
        "vader_sentiment, subjectivity\n"
      ],
      "metadata": {
        "colab": {
          "base_uri": "https://localhost:8080/"
        },
        "id": "aKnR2QKpetzS",
        "outputId": "a237c683-63d4-4f8f-d695-80a5d2e9be23"
      },
      "execution_count": 9,
      "outputs": [
        {
          "output_type": "execute_result",
          "data": {
            "text/plain": [
              "({'neg': 0.061, 'neu': 0.863, 'pos': 0.076, 'compound': 0.5999},\n",
              " 0.30897435897435904)"
            ]
          },
          "metadata": {},
          "execution_count": 9
        }
      ]
    },
    {
      "cell_type": "code",
      "source": [],
      "metadata": {
        "id": "tjS5HIGGet3t"
      },
      "execution_count": null,
      "outputs": []
    },
    {
      "cell_type": "code",
      "source": [],
      "metadata": {
        "id": "_x0jJAwNet7m"
      },
      "execution_count": null,
      "outputs": []
    }
  ]
}