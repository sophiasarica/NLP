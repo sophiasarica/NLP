{
  "nbformat": 4,
  "nbformat_minor": 0,
  "metadata": {
    "colab": {
      "provenance": []
    },
    "kernelspec": {
      "name": "python3",
      "display_name": "Python 3"
    },
    "language_info": {
      "name": "python"
    }
  },
  "cells": [
    {
      "cell_type": "markdown",
      "source": [
        "Exercise 1"
      ],
      "metadata": {
        "id": "yxhMLqRfUZ5Y"
      }
    },
    {
      "cell_type": "code",
      "source": [],
      "metadata": {
        "id": "Ys_RtuKIJTA3"
      },
      "execution_count": null,
      "outputs": []
    },
    {
      "cell_type": "code",
      "source": [
        "import spacy\n",
        "import string\n",
        "\n",
        "nlp = spacy.load(\"en_core_web_sm\")\n",
        "\n",
        "#read the file\n",
        "file_path = 'SpaceX.txt'\n",
        "with open(file_path, 'r', encoding='utf-8') as file:\n",
        "    space_x_text = file.read()\n",
        "\n",
        "# Process the file\n",
        "doc = nlp(space_x_text)\n",
        "\n",
        "# Tokenization and removal\n",
        "tokens = [token.text for token in doc if not token.is_stop and not token.text in string.punctuation]\n",
        "\n",
        "\n",
        "tokens[:100]\n"
      ],
      "metadata": {
        "colab": {
          "base_uri": "https://localhost:8080/"
        },
        "id": "JnKlA0ZlH2iG",
        "outputId": "a66e3276-7391-490c-eb91-571b6c094942"
      },
      "execution_count": 10,
      "outputs": [
        {
          "output_type": "execute_result",
          "data": {
            "text/plain": [
              "['SpaceX',\n",
              " 'CEO',\n",
              " 'Elon',\n",
              " 'Musk',\n",
              " 'said',\n",
              " 'Friday',\n",
              " 'activate',\n",
              " 'firm',\n",
              " 'satellite',\n",
              " 'internet',\n",
              " 'service',\n",
              " 'Starlink',\n",
              " 'response',\n",
              " 'U.S.',\n",
              " 'Secretary',\n",
              " 'State',\n",
              " 'Antony',\n",
              " 'Blinken',\n",
              " 'tweet',\n",
              " 'United',\n",
              " 'States',\n",
              " 'took',\n",
              " 'action',\n",
              " 'advance',\n",
              " 'internet',\n",
              " 'freedom',\n",
              " 'free',\n",
              " 'flow',\n",
              " 'information',\n",
              " 'Iranians',\n",
              " 'U.S.',\n",
              " 'Treasury',\n",
              " 'Department',\n",
              " 'Friday',\n",
              " 'issued',\n",
              " 'guidance',\n",
              " 'expanding',\n",
              " 'internet',\n",
              " 'services',\n",
              " 'available',\n",
              " 'Iranians',\n",
              " 'despite',\n",
              " 'U.S.',\n",
              " 'sanctions',\n",
              " 'country',\n",
              " 'amid',\n",
              " 'protests',\n",
              " 'Iran',\n",
              " 'following',\n",
              " 'death',\n",
              " '22',\n",
              " 'year',\n",
              " 'old',\n",
              " 'woman',\n",
              " 'custody',\n",
              " 'Treasury',\n",
              " 'official',\n",
              " 'briefing',\n",
              " 'reporters',\n",
              " 'said',\n",
              " 'understanding',\n",
              " 'Starlink',\n",
              " 'provide',\n",
              " 'commercial',\n",
              " 'grade',\n",
              " 'hardware',\n",
              " 'covered',\n",
              " 'general',\n",
              " 'license',\n",
              " 'need',\n",
              " 'write',\n",
              " 'Treasury',\n",
              " 'U.S.',\n",
              " 'State',\n",
              " 'Department',\n",
              " 'spokesperson',\n",
              " 'later',\n",
              " 'said',\n",
              " 'Friday',\n",
              " 'updated',\n",
              " 'license',\n",
              " 'self',\n",
              " 'executing',\n",
              " 'meets',\n",
              " 'criteria',\n",
              " 'outlined',\n",
              " 'general',\n",
              " 'license',\n",
              " 'proceed',\n",
              " 'activities',\n",
              " 'requesting',\n",
              " 'additional',\n",
              " 'permissions',\n",
              " 'Musk',\n",
              " 'reached',\n",
              " 'comments',\n",
              " 'clarification',\n",
              " 'Starlink',\n",
              " 'clearance',\n",
              " 'operate']"
            ]
          },
          "metadata": {},
          "execution_count": 10
        }
      ]
    },
    {
      "cell_type": "code",
      "source": [
        "import spacy\n",
        "from spacy.lang.en.stop_words import STOP_WORDS\n",
        "import string\n"
      ],
      "metadata": {
        "id": "bwdUvcBuKA8r"
      },
      "execution_count": 13,
      "outputs": []
    },
    {
      "cell_type": "code",
      "source": [
        "from string import punctuation\n",
        "from spacy.lang.en.stop_words import STOP_WORDS\n",
        "from spacy.lang.en import English\n",
        "from heapq import nlargest\n",
        "from spacy.language import Language\n",
        "\n",
        "punctuations = punctuation\n",
        "nlp = English()\n",
        "nlp.add_pipe('sentencizer')\n",
        "parser = English()\n"
      ],
      "metadata": {
        "id": "INMa9j9lKOXh"
      },
      "execution_count": 14,
      "outputs": []
    },
    {
      "cell_type": "code",
      "source": [
        "# Filtering tokens\n",
        "cleaned_words = [token.text.lower() for token in doc if not token.is_stop and token.text not in punctuation]\n"
      ],
      "metadata": {
        "id": "2WbV4NWEKDLo"
      },
      "execution_count": 15,
      "outputs": []
    },
    {
      "cell_type": "code",
      "source": [
        "\n",
        "# Build word frequency dictionary again\n",
        "word_freq = {}\n",
        "for word in cleaned_words:\n",
        "    if word in word_freq:\n",
        "        word_freq[word] += 1\n",
        "    else:\n",
        "        word_freq[word] = 1\n",
        "\n",
        "# Convert the word frequency dictionary\n",
        "sorted_word_freq = sorted(word_freq.items(), key=lambda item: item[1], reverse=True)\n",
        "\n",
        "# Display the top 20 words\n",
        "sorted_word_freq[:20]"
      ],
      "metadata": {
        "colab": {
          "base_uri": "https://localhost:8080/"
        },
        "id": "yJDWmSEUH30c",
        "outputId": "545b0816-3426-4be0-a0fd-460067f1674a"
      },
      "execution_count": 17,
      "outputs": [
        {
          "output_type": "execute_result",
          "data": {
            "text/plain": [
              "[('said', 5),\n",
              " ('u.s.', 5),\n",
              " ('iranians', 5),\n",
              " ('starlink', 4),\n",
              " ('state', 4),\n",
              " ('department', 4),\n",
              " ('license', 4),\n",
              " ('spacex', 3),\n",
              " ('musk', 3),\n",
              " ('friday', 3),\n",
              " ('internet', 3),\n",
              " ('treasury', 3),\n",
              " ('spokesperson', 3),\n",
              " ('satellite', 2),\n",
              " ('service', 2),\n",
              " ('sanctions', 2),\n",
              " ('iran', 2),\n",
              " ('death', 2),\n",
              " ('custody', 2),\n",
              " ('provide', 2)]"
            ]
          },
          "metadata": {},
          "execution_count": 17
        }
      ]
    },
    {
      "cell_type": "code",
      "source": [
        "val=sorted(word_freq.values())\n",
        "max_freq=val[-3:]\n",
        "print(\"Topic of document given :-\")\n",
        "for word,freq in word_freq.items():\n",
        "      if freq in max_freq:\n",
        "          print(word ,end=\" \")\n",
        "      else:\n",
        "          continue"
      ],
      "metadata": {
        "colab": {
          "base_uri": "https://localhost:8080/"
        },
        "id": "1YQk2i-aNNMd",
        "outputId": "7b3b403a-06d8-42bf-9004-029c470d8a2a"
      },
      "execution_count": 25,
      "outputs": [
        {
          "output_type": "stream",
          "name": "stdout",
          "text": [
            "Topic of document given :-\n",
            "said u.s. iranians "
          ]
        }
      ]
    },
    {
      "cell_type": "code",
      "source": [
        "for word in word_freq.keys():\n",
        "       word_freq[word] = (word_freq[word]/max_freq[-1])\n",
        "word_freq"
      ],
      "metadata": {
        "colab": {
          "base_uri": "https://localhost:8080/"
        },
        "id": "C1SN09bwM-fO",
        "outputId": "c9665f20-98e5-4d6f-fcc9-e350b68efe84"
      },
      "execution_count": 26,
      "outputs": [
        {
          "output_type": "execute_result",
          "data": {
            "text/plain": [
              "{'spacex': 0.6,\n",
              " 'ceo': 0.2,\n",
              " 'elon': 0.2,\n",
              " 'musk': 0.6,\n",
              " 'said': 1.0,\n",
              " 'friday': 0.6,\n",
              " 'activate': 0.2,\n",
              " 'firm': 0.2,\n",
              " 'satellite': 0.4,\n",
              " 'internet': 0.6,\n",
              " 'service': 0.4,\n",
              " 'starlink': 0.8,\n",
              " 'response': 0.2,\n",
              " 'u.s.': 1.0,\n",
              " 'secretary': 0.2,\n",
              " 'state': 0.8,\n",
              " 'antony': 0.2,\n",
              " 'blinken': 0.2,\n",
              " 'tweet': 0.2,\n",
              " 'united': 0.2,\n",
              " 'states': 0.2,\n",
              " 'took': 0.2,\n",
              " 'action': 0.2,\n",
              " 'advance': 0.2,\n",
              " 'freedom': 0.2,\n",
              " 'free': 0.2,\n",
              " 'flow': 0.2,\n",
              " 'information': 0.2,\n",
              " 'iranians': 1.0,\n",
              " 'treasury': 0.6,\n",
              " 'department': 0.8,\n",
              " 'issued': 0.2,\n",
              " 'guidance': 0.2,\n",
              " 'expanding': 0.2,\n",
              " 'services': 0.2,\n",
              " 'available': 0.2,\n",
              " 'despite': 0.2,\n",
              " 'sanctions': 0.4,\n",
              " 'country': 0.2,\n",
              " 'amid': 0.2,\n",
              " 'protests': 0.2,\n",
              " 'iran': 0.4,\n",
              " 'following': 0.2,\n",
              " 'death': 0.4,\n",
              " '22': 0.2,\n",
              " 'year': 0.2,\n",
              " 'old': 0.2,\n",
              " 'woman': 0.2,\n",
              " 'custody': 0.4,\n",
              " 'official': 0.2,\n",
              " 'briefing': 0.2,\n",
              " 'reporters': 0.2,\n",
              " 'understanding': 0.2,\n",
              " 'provide': 0.4,\n",
              " 'commercial': 0.2,\n",
              " 'grade': 0.2,\n",
              " 'hardware': 0.2,\n",
              " 'covered': 0.2,\n",
              " 'general': 0.4,\n",
              " 'license': 0.8,\n",
              " 'need': 0.2,\n",
              " 'write': 0.2,\n",
              " 'spokesperson': 0.6,\n",
              " 'later': 0.2,\n",
              " 'updated': 0.2,\n",
              " 'self': 0.2,\n",
              " 'executing': 0.2,\n",
              " 'meets': 0.2,\n",
              " 'criteria': 0.2,\n",
              " 'outlined': 0.2,\n",
              " 'proceed': 0.2,\n",
              " 'activities': 0.2,\n",
              " 'requesting': 0.2,\n",
              " 'additional': 0.2,\n",
              " 'permissions': 0.2,\n",
              " 'reached': 0.2,\n",
              " 'comments': 0.2,\n",
              " 'clarification': 0.2,\n",
              " 'clearance': 0.2,\n",
              " 'operate': 0.2,\n",
              " 'protesting': 0.2,\n",
              " 'mahsa': 0.2,\n",
              " 'amini': 0.2,\n",
              " 'week': 0.2,\n",
              " 'police': 0.4,\n",
              " 'arrested': 0.2,\n",
              " 'morality': 0.2,\n",
              " 'wearing': 0.2,\n",
              " 'unsuitable': 0.2,\n",
              " 'attire': 0.2,\n",
              " 'monday': 0.2,\n",
              " 'company': 0.2,\n",
              " 'wanted': 0.2,\n",
              " 'broadband': 0.2,\n",
              " 'provided': 0.2,\n",
              " 'ukraine': 0.2,\n",
              " 'fight': 0.2,\n",
              " 'russia': 0.2,\n",
              " 'invasion': 0.2,\n",
              " 'ask': 0.2,\n",
              " 'exception': 0.2,\n",
              " 'added': 0.2,\n",
              " 'determine': 0.2,\n",
              " 'activity': 0.4,\n",
              " 'aimed': 0.2,\n",
              " 'requires': 0.2,\n",
              " 'specific': 0.2,\n",
              " 'ofac': 0.4,\n",
              " 'welcome': 0.2,\n",
              " 'prioritize': 0.2,\n",
              " 'token': 0.2,\n",
              " 'determines': 0.2,\n",
              " 'authorized': 0.2,\n",
              " 'questions': 0.2,\n",
              " 'welcomes': 0.2,\n",
              " 'engagement': 0.2,\n",
              " '\\n\\n': 0.2}"
            ]
          },
          "metadata": {},
          "execution_count": 26
        }
      ]
    },
    {
      "cell_type": "code",
      "source": [
        "sent_strength={}\n",
        "for sent in doc.sents:\n",
        "      for word in sent :\n",
        "          if word.text.lower() in word_freq.keys():\n",
        "                if sent in sent_strength.keys():\n",
        "                     sent_strength[sent]+=word_freq[word.text.lower()]\n",
        "                else:\n",
        "                     sent_strength[sent]=word_freq[word.text.lower()]\n",
        "          else:\n",
        "                continue\n",
        "sent_strength"
      ],
      "metadata": {
        "colab": {
          "base_uri": "https://localhost:8080/"
        },
        "id": "6nWDgyivPFx6",
        "outputId": "c1afb17f-33f0-45bc-982a-ade708ed71b4"
      },
      "execution_count": 27,
      "outputs": [
        {
          "output_type": "execute_result",
          "data": {
            "text/plain": [
              "{SpaceX CEO Elon Musk said on Friday that he would activate the firm's satellite internet service, Starlink, in response to U.S. Secretary of State Antony Blinken's tweet that the United States took action \"to advance internet freedom and the free flow of information\" to Iranians.: 11.999999999999993,\n",
              " The U.S. Treasury Department on Friday issued guidance expanding internet services available to Iranians despite U.S. sanctions on the country, amid protests around Iran following the death of a 22-year-old woman in custody.: 10.0,\n",
              " A Treasury official briefing reporters said: \"Our understanding of Starlink is that what they provide would be commercial grade, and it would be hardware that's not covered in the general license; so that would be something they would need to write into Treasury for.\": 6.6000000000000005,\n",
              " A U.S. State Department spokesperson later said of Friday's updated license that it was self-executing and that \"anyone who meets the criteria outlined in this general license can proceed with their activities without requesting additional permissions.\": 9.199999999999998,\n",
              " Musk could not be reached for comments or clarification regarding Starlink's clearance to operate in Iran.: 2.8000000000000003,\n",
              " Iranians have been protesting over the death of Mahsa Amini last week while in police custody after being arrested by the morality police for wearing \"unsuitable attire\".: 4.4,\n",
              " Musk said on Monday that the company wanted to provide Starlink satellite broadband service - already provided to Ukraine for its fight against Russia's invasion - to Iranians, and would ask for a sanctions exception.: 7.200000000000002,\n",
              " The U.S. State Department spokesperson added that if SpaceX were to determine that some activity aimed at Iranians requires a specific license, \"OFAC would welcome it and prioritize it\".: 7.800000000000002,\n",
              " \"By the same token, if SpaceX determines that its activity is already authorized and has any questions, OFAC also welcomes that engagement,\" the State Department spokesperson said.\n",
              " : 6.0}"
            ]
          },
          "metadata": {},
          "execution_count": 27
        }
      ]
    },
    {
      "cell_type": "code",
      "source": [
        "top_sentences=(sorted(sent_strength.values())[::-1])\n",
        "top30percent_sentence=int(0.3*len(top_sentences))\n",
        "top_sent=top_sentences[:top30percent_sentence]"
      ],
      "metadata": {
        "id": "8Yyi4NjLPPbo"
      },
      "execution_count": 28,
      "outputs": []
    },
    {
      "cell_type": "code",
      "source": [
        "# Import nlargest\n",
        "from heapq import nlargest\n",
        "\n",
        "summary=[]\n",
        "for sent,strength in sent_strength.items():\n",
        "       if strength in top_sent:\n",
        "          summary.append(sent)\n",
        "       else:\n",
        "          continue\n",
        "for i in summary:\n",
        "  print(i,end=\"\")"
      ],
      "metadata": {
        "colab": {
          "base_uri": "https://localhost:8080/"
        },
        "id": "aK9J0ovBLzYF",
        "outputId": "e221b6a8-d436-484d-e651-a976b9e4f73a"
      },
      "execution_count": 33,
      "outputs": [
        {
          "output_type": "stream",
          "name": "stdout",
          "text": [
            "SpaceX CEO Elon Musk said on Friday that he would activate the firm's satellite internet service, Starlink, in response to U.S. Secretary of State Antony Blinken's tweet that the United States took action \"to advance internet freedom and the free flow of information\" to Iranians.The U.S. Treasury Department on Friday issued guidance expanding internet services available to Iranians despite U.S. sanctions on the country, amid protests around Iran following the death of a 22-year-old woman in custody."
          ]
        }
      ]
    },
    {
      "cell_type": "code",
      "source": [
        "summary"
      ],
      "metadata": {
        "colab": {
          "base_uri": "https://localhost:8080/"
        },
        "id": "tf_IBUQ_McrU",
        "outputId": "7d4a24a4-94b8-4cc6-c5c5-03a60ac70c4f"
      },
      "execution_count": 36,
      "outputs": [
        {
          "output_type": "execute_result",
          "data": {
            "text/plain": [
              "[SpaceX CEO Elon Musk said on Friday that he would activate the firm's satellite internet service, Starlink, in response to U.S. Secretary of State Antony Blinken's tweet that the United States took action \"to advance internet freedom and the free flow of information\" to Iranians.,\n",
              " The U.S. Treasury Department on Friday issued guidance expanding internet services available to Iranians despite U.S. sanctions on the country, amid protests around Iran following the death of a 22-year-old woman in custody.]"
            ]
          },
          "metadata": {},
          "execution_count": 36
        }
      ]
    },
    {
      "cell_type": "code",
      "source": [
        "\n"
      ],
      "metadata": {
        "id": "8pw333I3Me9x"
      },
      "execution_count": 50,
      "outputs": []
    },
    {
      "cell_type": "code",
      "source": [],
      "metadata": {
        "id": "5DXr3vSZNgVs"
      },
      "execution_count": 50,
      "outputs": []
    },
    {
      "cell_type": "code",
      "source": [],
      "metadata": {
        "id": "SlH4CoM7NoTh"
      },
      "execution_count": 50,
      "outputs": []
    },
    {
      "cell_type": "code",
      "source": [],
      "metadata": {
        "id": "-t6PtqTdNqrq"
      },
      "execution_count": 50,
      "outputs": []
    },
    {
      "cell_type": "code",
      "source": [],
      "metadata": {
        "id": "zcgKCRD0SEcP"
      },
      "execution_count": null,
      "outputs": []
    }
  ]
}