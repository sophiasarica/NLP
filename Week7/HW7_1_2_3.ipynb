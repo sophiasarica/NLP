{
  "nbformat": 4,
  "nbformat_minor": 0,
  "metadata": {
    "colab": {
      "provenance": []
    },
    "kernelspec": {
      "name": "python3",
      "display_name": "Python 3"
    },
    "language_info": {
      "name": "python"
    }
  },
  "cells": [
    {
      "cell_type": "markdown",
      "source": [
        "Exercise 1: Using textblob, what is the probability that the sentiment in the\n",
        "Burbank text is going to negative?\n",
        "\n",
        "Exercise 2: Using the data from exercise 1 and textblob, what is the overall\n",
        "sentiment and subjectivity?\n",
        "\n",
        "Exercise 3: Import Word from textblob. Identify the key topics by using Word\n",
        "from textblob."
      ],
      "metadata": {
        "id": "Kg0G3C3JGQ-G"
      }
    },
    {
      "cell_type": "code",
      "source": [
        "# Load the text\n",
        "file_path = 'Burbank.txt'\n",
        "\n",
        "with open(file_path, 'r', encoding='utf-8') as file:\n",
        "    burbank_text = file.read()\n",
        "\n"
      ],
      "metadata": {
        "id": "8ShJMkedGQrS"
      },
      "execution_count": 2,
      "outputs": []
    },
    {
      "cell_type": "code",
      "source": [
        "# Analyze sentiment using TextBlob\n",
        "from textblob import TextBlob\n",
        "blob = TextBlob(burbank_text)\n",
        "polarity = blob.sentiment.polarity\n",
        "\n"
      ],
      "metadata": {
        "id": "Lo_is7R1GMiE"
      },
      "execution_count": 4,
      "outputs": []
    },
    {
      "cell_type": "code",
      "source": [
        "# Determine the probability of being negative and polarity\n",
        "probability_negative = max(0, -polarity)\n",
        "polarity, probability_negative"
      ],
      "metadata": {
        "colab": {
          "base_uri": "https://localhost:8080/"
        },
        "id": "MiLH9N2RG6aX",
        "outputId": "f1fd3a07-76b6-4bae-894f-27368d58e27b"
      },
      "execution_count": 6,
      "outputs": [
        {
          "output_type": "execute_result",
          "data": {
            "text/plain": [
              "(0.09869334480780263, 0)"
            ]
          },
          "metadata": {},
          "execution_count": 6
        }
      ]
    },
    {
      "cell_type": "markdown",
      "source": [
        "Exercise 2"
      ],
      "metadata": {
        "id": "u_79IOA0KPh5"
      }
    },
    {
      "cell_type": "code",
      "source": [
        "subjectivity = blob.sentiment.subjectivity\n",
        "subjectivity\n"
      ],
      "metadata": {
        "colab": {
          "base_uri": "https://localhost:8080/"
        },
        "id": "eOYCXTA7G6YH",
        "outputId": "7c2bae7a-9ffe-4dd9-ba95-c6a9a1bd7b6e"
      },
      "execution_count": 7,
      "outputs": [
        {
          "output_type": "execute_result",
          "data": {
            "text/plain": [
              "0.3790877796901893"
            ]
          },
          "metadata": {},
          "execution_count": 7
        }
      ]
    },
    {
      "cell_type": "markdown",
      "source": [
        "Exercise 3"
      ],
      "metadata": {
        "id": "Ablw9zSiKNj3"
      }
    },
    {
      "cell_type": "code",
      "source": [
        "from textblob import TextBlob, Word\n",
        "from collections import Counter\n",
        "import re\n"
      ],
      "metadata": {
        "id": "nyxYbgNDKFu_"
      },
      "execution_count": 10,
      "outputs": []
    },
    {
      "cell_type": "code",
      "source": [
        "# Function to clean and extract words from text\n",
        "def extract_words(text):\n",
        "    # Remove non-alphabetic characters and split text into words\n",
        "    words = re.findall(r'\\b\\w+\\b', text.lower())\n",
        "    return words\n"
      ],
      "metadata": {
        "id": "ZqQztk-JKFsY"
      },
      "execution_count": 11,
      "outputs": []
    },
    {
      "cell_type": "code",
      "source": [
        "import nltk\n",
        "nltk.download('punkt')\n"
      ],
      "metadata": {
        "colab": {
          "base_uri": "https://localhost:8080/"
        },
        "id": "cC0BYkn7Kh5H",
        "outputId": "5506aca7-6a3d-40a1-eb23-efbb32450ae0"
      },
      "execution_count": 14,
      "outputs": [
        {
          "output_type": "stream",
          "name": "stderr",
          "text": [
            "[nltk_data] Downloading package punkt to /root/nltk_data...\n",
            "[nltk_data]   Unzipping tokenizers/punkt.zip.\n"
          ]
        },
        {
          "output_type": "execute_result",
          "data": {
            "text/plain": [
              "True"
            ]
          },
          "metadata": {},
          "execution_count": 14
        }
      ]
    },
    {
      "cell_type": "code",
      "source": [
        "# Extract words from the text\n",
        "blob = TextBlob(burbank_text)\n",
        "words = extract_words(burbank_text)\n"
      ],
      "metadata": {
        "id": "04u-c_PyKFpy"
      },
      "execution_count": 16,
      "outputs": []
    },
    {
      "cell_type": "code",
      "source": [
        "import nltk\n",
        "from nltk.corpus import stopwords\n",
        "nltk.download('stopwords')\n",
        "\n",
        "stop_words = set(stopwords.words('english'))\n",
        "\n",
        "filtered_words = [word for word in words if word not in stop_words]\n"
      ],
      "metadata": {
        "colab": {
          "base_uri": "https://localhost:8080/"
        },
        "id": "H7jVUxySKFnL",
        "outputId": "bb6b166c-763c-4394-d295-ec17b539eb39"
      },
      "execution_count": 18,
      "outputs": [
        {
          "output_type": "stream",
          "name": "stderr",
          "text": [
            "[nltk_data] Downloading package stopwords to /root/nltk_data...\n",
            "[nltk_data]   Unzipping corpora/stopwords.zip.\n"
          ]
        }
      ]
    },
    {
      "cell_type": "code",
      "source": [
        "# Count the frequency of each word\n",
        "word_counts = Counter(filtered_words)\n"
      ],
      "metadata": {
        "id": "RVAvMJB4KFk0"
      },
      "execution_count": 19,
      "outputs": []
    },
    {
      "cell_type": "code",
      "source": [
        "# Identify the most common words as key topics\n",
        "key_topics = word_counts.most_common(5)\n",
        "key_topics\n"
      ],
      "metadata": {
        "colab": {
          "base_uri": "https://localhost:8080/"
        },
        "id": "sK_D7CBQKFiC",
        "outputId": "1bd18efe-b356-4eb5-c37a-062e457aa2d6"
      },
      "execution_count": 22,
      "outputs": [
        {
          "output_type": "execute_result",
          "data": {
            "text/plain": [
              "[('faa', 13), ('valley', 12), ('burbank', 12), ('said', 12), ('task', 10)]"
            ]
          },
          "metadata": {},
          "execution_count": 22
        }
      ]
    },
    {
      "cell_type": "code",
      "source": [],
      "metadata": {
        "id": "Jb2Y7Fd7KFWo"
      },
      "execution_count": null,
      "outputs": []
    }
  ]
}