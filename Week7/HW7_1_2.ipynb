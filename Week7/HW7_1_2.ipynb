{
  "nbformat": 4,
  "nbformat_minor": 0,
  "metadata": {
    "colab": {
      "provenance": []
    },
    "kernelspec": {
      "name": "python3",
      "display_name": "Python 3"
    },
    "language_info": {
      "name": "python"
    }
  },
  "cells": [
    {
      "cell_type": "markdown",
      "source": [
        "Exercise 1: Using textblob, what is the probability that the sentiment in the\n",
        "Burbank text is going to negative?"
      ],
      "metadata": {
        "id": "Kg0G3C3JGQ-G"
      }
    },
    {
      "cell_type": "code",
      "source": [
        "# Load the text\n",
        "file_path = 'Burbank.txt'\n",
        "\n",
        "with open(file_path, 'r', encoding='utf-8') as file:\n",
        "    burbank_text = file.read()\n",
        "\n"
      ],
      "metadata": {
        "id": "8ShJMkedGQrS"
      },
      "execution_count": 2,
      "outputs": []
    },
    {
      "cell_type": "code",
      "source": [
        "# Analyze sentiment using TextBlob\n",
        "from textblob import TextBlob\n",
        "blob = TextBlob(burbank_text)\n",
        "polarity = blob.sentiment.polarity\n",
        "\n"
      ],
      "metadata": {
        "id": "Lo_is7R1GMiE"
      },
      "execution_count": 4,
      "outputs": []
    },
    {
      "cell_type": "code",
      "source": [
        "# Determine the probability of being negative and polarity\n",
        "probability_negative = max(0, -polarity)\n",
        "polarity, probability_negative"
      ],
      "metadata": {
        "colab": {
          "base_uri": "https://localhost:8080/"
        },
        "id": "MiLH9N2RG6aX",
        "outputId": "f1fd3a07-76b6-4bae-894f-27368d58e27b"
      },
      "execution_count": 6,
      "outputs": [
        {
          "output_type": "execute_result",
          "data": {
            "text/plain": [
              "(0.09869334480780263, 0)"
            ]
          },
          "metadata": {},
          "execution_count": 6
        }
      ]
    },
    {
      "cell_type": "code",
      "source": [
        "subjectivity = blob.sentiment.subjectivity\n",
        "subjectivity\n"
      ],
      "metadata": {
        "colab": {
          "base_uri": "https://localhost:8080/"
        },
        "id": "eOYCXTA7G6YH",
        "outputId": "7c2bae7a-9ffe-4dd9-ba95-c6a9a1bd7b6e"
      },
      "execution_count": 7,
      "outputs": [
        {
          "output_type": "execute_result",
          "data": {
            "text/plain": [
              "0.3790877796901893"
            ]
          },
          "metadata": {},
          "execution_count": 7
        }
      ]
    },
    {
      "cell_type": "code",
      "source": [],
      "metadata": {
        "id": "9S2RvFF1G6Vb"
      },
      "execution_count": null,
      "outputs": []
    },
    {
      "cell_type": "code",
      "source": [],
      "metadata": {
        "id": "BFocdOwEG6TE"
      },
      "execution_count": null,
      "outputs": []
    },
    {
      "cell_type": "code",
      "source": [],
      "metadata": {
        "id": "fqCA1Pl4G6Qy"
      },
      "execution_count": null,
      "outputs": []
    }
  ]
}