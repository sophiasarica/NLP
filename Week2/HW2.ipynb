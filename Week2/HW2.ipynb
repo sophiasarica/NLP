{
 "cells": [
  {
   "cell_type": "markdown",
   "id": "67fcc97b",
   "metadata": {},
   "source": [
    "### WEEK 2 HOMEWORK"
   ]
  },
  {
   "cell_type": "markdown",
   "id": "c54a0041",
   "metadata": {},
   "source": [
    "**1**. Make sure you have installed BeautifulSoup and lxml"
   ]
  },
  {
   "cell_type": "code",
   "execution_count": 3,
   "id": "1bba6783",
   "metadata": {},
   "outputs": [
    {
     "name": "stdout",
     "output_type": "stream",
     "text": [
      "Requirement already satisfied: beautifulsoup4 in /Users/sophiasarica/opt/anaconda3/lib/python3.9/site-packages (4.12.2)\n",
      "Requirement already satisfied: lxml in /Users/sophiasarica/opt/anaconda3/lib/python3.9/site-packages (4.9.3)\n",
      "Requirement already satisfied: soupsieve>1.2 in /Users/sophiasarica/opt/anaconda3/lib/python3.9/site-packages (from beautifulsoup4) (2.2.1)\n",
      "\u001b[33mDEPRECATION: pyodbc 4.0.0-unsupported has a non-standard version number. pip 24.1 will enforce this behaviour change. A possible replacement is to upgrade to a newer version of pyodbc or contact the author to suggest that they release a version with a conforming version number. Discussion can be found at https://github.com/pypa/pip/issues/12063\u001b[0m\u001b[33m\n",
      "\u001b[0mNote: you may need to restart the kernel to use updated packages.\n"
     ]
    }
   ],
   "source": [
    "pip install beautifulsoup4 lxml\n"
   ]
  },
  {
   "cell_type": "code",
   "execution_count": null,
   "id": "3b88f6bb",
   "metadata": {},
   "outputs": [],
   "source": []
  },
  {
   "cell_type": "markdown",
   "id": "83b69eb6",
   "metadata": {},
   "source": [
    "**2**. Use the website https://pythonprogramming.net/parsememcparseface/"
   ]
  },
  {
   "cell_type": "markdown",
   "id": "851ad952",
   "metadata": {},
   "source": [
    "**3**. Connect to the website using urllib.request"
   ]
  },
  {
   "cell_type": "code",
   "execution_count": 4,
   "id": "5865e659",
   "metadata": {},
   "outputs": [],
   "source": [
    "import urllib.request\n",
    "from bs4 import BeautifulSoup"
   ]
  },
  {
   "cell_type": "code",
   "execution_count": 5,
   "id": "6a884484",
   "metadata": {},
   "outputs": [],
   "source": [
    "#Connect to the website\n",
    "url = 'https://pythonprogramming.net/parsememcparseface/'\n",
    "request = urllib.request.urlopen(url)"
   ]
  },
  {
   "cell_type": "markdown",
   "id": "fc86361a",
   "metadata": {},
   "source": [
    "**4**. Create an object called ‘soup’ using the source"
   ]
  },
  {
   "cell_type": "code",
   "execution_count": 6,
   "id": "b8014fc8",
   "metadata": {},
   "outputs": [],
   "source": [
    "#Create a 'soup' object using the source\n",
    "soup = BeautifulSoup(request, 'lxml')"
   ]
  },
  {
   "cell_type": "markdown",
   "id": "ea950446",
   "metadata": {},
   "source": [
    "**5**. Print page title, get attributes, values, and beginning navigation. Get specific\n",
    "values."
   ]
  },
  {
   "cell_type": "code",
   "execution_count": 7,
   "id": "6630e930",
   "metadata": {},
   "outputs": [
    {
     "name": "stdout",
     "output_type": "stream",
     "text": [
      "Page Title: Python Programming Tutorials\n",
      "First paragraph tag's class: ['introduction']\n"
     ]
    }
   ],
   "source": [
    "#Print page title \n",
    "print(\"Page Title:\", soup.title.string)\n",
    "\n",
    "# Getting attributes, values, and specific values\n",
    "# print the first 'p' tag's class attribute\n",
    "first_p_tag = soup.find('p')\n",
    "print(\"First paragraph tag's class:\", first_p_tag['class'] if first_p_tag.has_attr('class') else \"No class attribute\")\n"
   ]
  },
  {
   "cell_type": "markdown",
   "id": "015e1ee4",
   "metadata": {},
   "source": [
    "**6**. Find all the paragraph instead of just one in the previous query  \n",
    "**7**. You can iterate through them using ‘str(paragraph.text)’  "
   ]
  },
  {
   "cell_type": "code",
   "execution_count": 9,
   "id": "1f18fe3b",
   "metadata": {},
   "outputs": [
    {
     "name": "stdout",
     "output_type": "stream",
     "text": [
      "Oh, hello! This is a wonderful page meant to let you practice web scraping. This page was originally created to help people work with the Beautiful Soup 4 library.\n",
      "The following table gives some general information for the following programming languages:\n",
      "I think it's clear that, on a scale of 1-10, python is:\n",
      "Javascript (dynamic data) test:\n",
      "y u bad tho?\n",
      "Whᶐt hαppéns now¿\n",
      "sitemap\n",
      "Contact: Harrison@pythonprogramming.net.\n",
      "Programming is a superpower.\n"
     ]
    }
   ],
   "source": [
    "#Find all paragraphs and iterate through them\n",
    "for paragraph in soup.find_all('p'):\n",
    "    print(str(paragraph.text))"
   ]
  },
  {
   "cell_type": "markdown",
   "id": "c2149aed",
   "metadata": {},
   "source": [
    "**8**. Grab all the links through ‘url.get(‘here)"
   ]
  },
  {
   "cell_type": "code",
   "execution_count": 10,
   "id": "3dd05bc7",
   "metadata": {},
   "outputs": [
    {
     "name": "stdout",
     "output_type": "stream",
     "text": [
      "Link URL: /\n",
      "Link URL: #\n",
      "Link URL: /\n",
      "Link URL: /+=1/\n",
      "Link URL: /support/\n",
      "Link URL: https://goo.gl/7zgAVQ\n",
      "Link URL: /login/\n",
      "Link URL: /register/\n",
      "Link URL: /\n",
      "Link URL: /+=1/\n",
      "Link URL: /support/\n",
      "Link URL: https://goo.gl/7zgAVQ\n",
      "Link URL: /login/\n",
      "Link URL: /register/\n",
      "Link URL: https://www.crummy.com/software/BeautifulSoup/bs4/doc/\n",
      "Link URL: /sitemap.xml\n",
      "Link URL: /support-donate/\n",
      "Link URL: /consulting/\n",
      "Link URL: https://www.facebook.com/pythonprogramming.net/\n",
      "Link URL: https://twitter.com/sentdex\n",
      "Link URL: https://instagram.com/sentdex\n",
      "Link URL: /about/tos/\n",
      "Link URL: /about/privacy-policy/\n",
      "Link URL: https://xkcd.com/353/\n"
     ]
    }
   ],
   "source": [
    "#Grab all the links\n",
    "links = soup.find_all('a')\n",
    "for link in links:\n",
    "    print(\"Link URL:\", link.get('href'))\n"
   ]
  },
  {
   "cell_type": "markdown",
   "id": "a10e8c1f",
   "metadata": {},
   "source": [
    "**9**. Just grab the text using ‘get_text’"
   ]
  },
  {
   "cell_type": "code",
   "execution_count": 15,
   "id": "03c20375",
   "metadata": {},
   "outputs": [
    {
     "name": "stdout",
     "output_type": "stream",
     "text": [
      "First link text: Consulting and Contracting\n"
     ]
    }
   ],
   "source": [
    "#Just grab the text using `get_text`\n",
    "# Getting text from the 17th link \n",
    "if links:\n",
    "    print(\"First link text:\", links[17].get_text())\n",
    "else:\n",
    "    print(\"No links found\")\n"
   ]
  },
  {
   "cell_type": "code",
   "execution_count": null,
   "id": "0a0fb900",
   "metadata": {},
   "outputs": [],
   "source": []
  },
  {
   "cell_type": "code",
   "execution_count": null,
   "id": "0e2ac704",
   "metadata": {},
   "outputs": [],
   "source": []
  },
  {
   "cell_type": "code",
   "execution_count": null,
   "id": "379465a6",
   "metadata": {},
   "outputs": [],
   "source": []
  }
 ],
 "metadata": {
  "kernelspec": {
   "display_name": "Python 3 (ipykernel)",
   "language": "python",
   "name": "python3"
  },
  "language_info": {
   "codemirror_mode": {
    "name": "ipython",
    "version": 3
   },
   "file_extension": ".py",
   "mimetype": "text/x-python",
   "name": "python",
   "nbconvert_exporter": "python",
   "pygments_lexer": "ipython3",
   "version": "3.9.7"
  }
 },
 "nbformat": 4,
 "nbformat_minor": 5
}
