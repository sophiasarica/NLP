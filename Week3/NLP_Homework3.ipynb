{
 "cells": [
  {
   "cell_type": "markdown",
   "id": "433ca3dd",
   "metadata": {},
   "source": [
    "### Exercise 1"
   ]
  },
  {
   "cell_type": "markdown",
   "id": "022e0140",
   "metadata": {},
   "source": [
    "**1**. Use the train.tsv dataset"
   ]
  },
  {
   "cell_type": "code",
   "execution_count": 1,
   "id": "4cb9f6e5",
   "metadata": {},
   "outputs": [
    {
     "data": {
      "text/html": [
       "<div>\n",
       "<style scoped>\n",
       "    .dataframe tbody tr th:only-of-type {\n",
       "        vertical-align: middle;\n",
       "    }\n",
       "\n",
       "    .dataframe tbody tr th {\n",
       "        vertical-align: top;\n",
       "    }\n",
       "\n",
       "    .dataframe thead th {\n",
       "        text-align: right;\n",
       "    }\n",
       "</style>\n",
       "<table border=\"1\" class=\"dataframe\">\n",
       "  <thead>\n",
       "    <tr style=\"text-align: right;\">\n",
       "      <th></th>\n",
       "      <th>PhraseId</th>\n",
       "      <th>SentenceId</th>\n",
       "      <th>Phrase</th>\n",
       "      <th>Sentiment</th>\n",
       "    </tr>\n",
       "  </thead>\n",
       "  <tbody>\n",
       "    <tr>\n",
       "      <th>0</th>\n",
       "      <td>1</td>\n",
       "      <td>1</td>\n",
       "      <td>A series of escapades demonstrating the adage ...</td>\n",
       "      <td>1</td>\n",
       "    </tr>\n",
       "    <tr>\n",
       "      <th>1</th>\n",
       "      <td>2</td>\n",
       "      <td>1</td>\n",
       "      <td>A series of escapades demonstrating the adage ...</td>\n",
       "      <td>2</td>\n",
       "    </tr>\n",
       "    <tr>\n",
       "      <th>2</th>\n",
       "      <td>3</td>\n",
       "      <td>1</td>\n",
       "      <td>A series</td>\n",
       "      <td>2</td>\n",
       "    </tr>\n",
       "    <tr>\n",
       "      <th>3</th>\n",
       "      <td>4</td>\n",
       "      <td>1</td>\n",
       "      <td>A</td>\n",
       "      <td>2</td>\n",
       "    </tr>\n",
       "    <tr>\n",
       "      <th>4</th>\n",
       "      <td>5</td>\n",
       "      <td>1</td>\n",
       "      <td>series</td>\n",
       "      <td>2</td>\n",
       "    </tr>\n",
       "    <tr>\n",
       "      <th>5</th>\n",
       "      <td>6</td>\n",
       "      <td>1</td>\n",
       "      <td>of escapades demonstrating the adage that what...</td>\n",
       "      <td>2</td>\n",
       "    </tr>\n",
       "    <tr>\n",
       "      <th>6</th>\n",
       "      <td>7</td>\n",
       "      <td>1</td>\n",
       "      <td>of</td>\n",
       "      <td>2</td>\n",
       "    </tr>\n",
       "    <tr>\n",
       "      <th>7</th>\n",
       "      <td>8</td>\n",
       "      <td>1</td>\n",
       "      <td>escapades demonstrating the adage that what is...</td>\n",
       "      <td>2</td>\n",
       "    </tr>\n",
       "    <tr>\n",
       "      <th>8</th>\n",
       "      <td>9</td>\n",
       "      <td>1</td>\n",
       "      <td>escapades</td>\n",
       "      <td>2</td>\n",
       "    </tr>\n",
       "    <tr>\n",
       "      <th>9</th>\n",
       "      <td>10</td>\n",
       "      <td>1</td>\n",
       "      <td>demonstrating the adage that what is good for ...</td>\n",
       "      <td>2</td>\n",
       "    </tr>\n",
       "  </tbody>\n",
       "</table>\n",
       "</div>"
      ],
      "text/plain": [
       "   PhraseId  SentenceId                                             Phrase  \\\n",
       "0         1           1  A series of escapades demonstrating the adage ...   \n",
       "1         2           1  A series of escapades demonstrating the adage ...   \n",
       "2         3           1                                           A series   \n",
       "3         4           1                                                  A   \n",
       "4         5           1                                             series   \n",
       "5         6           1  of escapades demonstrating the adage that what...   \n",
       "6         7           1                                                 of   \n",
       "7         8           1  escapades demonstrating the adage that what is...   \n",
       "8         9           1                                          escapades   \n",
       "9        10           1  demonstrating the adage that what is good for ...   \n",
       "\n",
       "   Sentiment  \n",
       "0          1  \n",
       "1          2  \n",
       "2          2  \n",
       "3          2  \n",
       "4          2  \n",
       "5          2  \n",
       "6          2  \n",
       "7          2  \n",
       "8          2  \n",
       "9          2  "
      ]
     },
     "execution_count": 1,
     "metadata": {},
     "output_type": "execute_result"
    }
   ],
   "source": [
    "# imports \n",
    "import pandas as pd\n",
    "import numpy as np\n",
    "\n",
    "\n",
    "# Load the dataset\n",
    "data_path = 'train.tsv'\n",
    "data = pd.read_csv(data_path, sep='\\t')\n",
    "\n",
    "# Display the first 10 \n",
    "data.head(10)\n"
   ]
  },
  {
   "cell_type": "code",
   "execution_count": 3,
   "id": "c98df091",
   "metadata": {},
   "outputs": [],
   "source": [
    "data.to_csv('train.csv', index=False)\n"
   ]
  },
  {
   "cell_type": "markdown",
   "id": "5e0ddc6b",
   "metadata": {},
   "source": [
    "**2**. Take a look at the data and get info about the data"
   ]
  },
  {
   "cell_type": "code",
   "execution_count": 2,
   "id": "79d951da",
   "metadata": {},
   "outputs": [
    {
     "name": "stdout",
     "output_type": "stream",
     "text": [
      "<class 'pandas.core.frame.DataFrame'>\n",
      "RangeIndex: 156060 entries, 0 to 156059\n",
      "Data columns (total 4 columns):\n",
      " #   Column      Non-Null Count   Dtype \n",
      "---  ------      --------------   ----- \n",
      " 0   PhraseId    156060 non-null  int64 \n",
      " 1   SentenceId  156060 non-null  int64 \n",
      " 2   Phrase      156060 non-null  object\n",
      " 3   Sentiment   156060 non-null  int64 \n",
      "dtypes: int64(3), object(1)\n",
      "memory usage: 4.8+ MB\n"
     ]
    }
   ],
   "source": [
    "data.info()"
   ]
  },
  {
   "cell_type": "markdown",
   "id": "0b7a52dd",
   "metadata": {},
   "source": [
    "The dataset comprises 156,060 entries, with no missing values across its four columns. "
   ]
  },
  {
   "cell_type": "markdown",
   "id": "efc2ea49",
   "metadata": {},
   "source": [
    "**3**. Count the number of expressed sentiments by category"
   ]
  },
  {
   "cell_type": "code",
   "execution_count": 3,
   "id": "adc16b6c",
   "metadata": {},
   "outputs": [
    {
     "data": {
      "text/plain": [
       "2    79582\n",
       "3    32927\n",
       "1    27273\n",
       "4     9206\n",
       "0     7072\n",
       "Name: Sentiment, dtype: int64"
      ]
     },
     "execution_count": 3,
     "metadata": {},
     "output_type": "execute_result"
    }
   ],
   "source": [
    "# Count the number of expressed sentiments by category\n",
    "sentiment_counts = data['Sentiment'].value_counts()\n",
    "sentiment_counts\n"
   ]
  },
  {
   "cell_type": "markdown",
   "id": "0d1b3263",
   "metadata": {},
   "source": [
    "The sentiments are categorized into five classes, ranging from 0 to 4.\n",
    "\n",
    "Sentiment 2 contains the most phrases, suggesting it might represent a neutral or moderate sentiment.\n"
   ]
  },
  {
   "cell_type": "markdown",
   "id": "0bd28d29",
   "metadata": {},
   "source": [
    "**4**. Provide a histogram of sentiments by category"
   ]
  },
  {
   "cell_type": "code",
   "execution_count": 4,
   "id": "7e784849",
   "metadata": {},
   "outputs": [
    {
     "data": {
      "image/png": "[encoded data removed]",
      "text/plain": [
       "<Figure size 720x432 with 1 Axes>"
      ]
     },
     "metadata": {
      "needs_background": "light"
     },
     "output_type": "display_data"
    }
   ],
   "source": [
    "import matplotlib.pyplot as plt\n",
    "\n",
    "# Generate the histogram \n",
    "plt.figure(figsize=(10, 6))\n",
    "data['Sentiment'].hist(bins=np.arange(-0.5, 5, 1), rwidth=0.8, color='green', alpha=0.7)\n",
    "plt.title('Histogram of Sentiments by Category')\n",
    "plt.xlabel('Sentiment Category')\n",
    "plt.ylabel('Number of Phrases')\n",
    "plt.xticks(range(5))\n",
    "plt.grid(axis='y', alpha=0.75)\n",
    "plt.show()\n"
   ]
  },
  {
   "cell_type": "markdown",
   "id": "82b6ef90",
   "metadata": {},
   "source": [
    "As observed normally distributed data, most phrases fall under sentiment category 2, likely representing a neutral sentiment.\n"
   ]
  },
  {
   "cell_type": "markdown",
   "id": "7852117d",
   "metadata": {},
   "source": [
    "**5**. Generate document term matrix by using scikit-learn's CountVectorizer. Tokenize\n",
    "and remove symbols and numbers"
   ]
  },
  {
   "cell_type": "code",
   "execution_count": 5,
   "id": "99f9e857",
   "metadata": {},
   "outputs": [
    {
     "data": {
      "text/plain": [
       "(156060, 15121)"
      ]
     },
     "execution_count": 5,
     "metadata": {},
     "output_type": "execute_result"
    }
   ],
   "source": [
    "from sklearn.feature_extraction.text import CountVectorizer\n",
    "\n",
    "# tokenize and remove symbols and numbers\n",
    "vectorizer = CountVectorizer(token_pattern=r'\\b[^\\d\\W]+\\b') \n",
    "\n",
    "# document term matrix\n",
    "dtm = vectorizer.fit_transform(data['Phrase'])\n",
    "dtm.shape\n"
   ]
  },
  {
   "cell_type": "markdown",
   "id": "bd34b90f",
   "metadata": {},
   "source": [
    "The dataset consists of 156,060 rows, each corresponding to a phrase. It also has 15,121 columns, each representing a unique token or word identified in the dataset, excluding digits and symbols.\n"
   ]
  },
  {
   "cell_type": "markdown",
   "id": "4d7772d3",
   "metadata": {},
   "source": [
    "**6**. Split dataset (the test dataset represents 30% of the total data)."
   ]
  },
  {
   "cell_type": "code",
   "execution_count": 6,
   "id": "87877644",
   "metadata": {},
   "outputs": [
    {
     "data": {
      "text/plain": [
       "((109242, 15121), (46818, 15121), (109242,), (46818,))"
      ]
     },
     "execution_count": 6,
     "metadata": {},
     "output_type": "execute_result"
    }
   ],
   "source": [
    "from sklearn.model_selection import train_test_split\n",
    "\n",
    "# Splitting the dataset \n",
    "X_train, X_test, y_train, y_test = train_test_split(dtm, data['Sentiment'], test_size=0.3, random_state=42)\n",
    "\n",
    "# Display the sizes\n",
    "(X_train.shape, X_test.shape, y_train.shape, y_test.shape)\n"
   ]
  },
  {
   "cell_type": "markdown",
   "id": "cb9797e3",
   "metadata": {},
   "source": [
    "**7**. Import the MultinomialNB module and create a Multinomial Naive Bayes\n",
    "classifier object using MultinomialNB() function. Compute the model accuracy."
   ]
  },
  {
   "cell_type": "code",
   "execution_count": 7,
   "id": "700ce447",
   "metadata": {},
   "outputs": [
    {
     "data": {
      "text/plain": [
       "0.6114955786236063"
      ]
     },
     "execution_count": 7,
     "metadata": {},
     "output_type": "execute_result"
    }
   ],
   "source": [
    "from sklearn.naive_bayes import MultinomialNB\n",
    "from sklearn.metrics import accuracy_score\n",
    "\n",
    "# Create a Multinomial Naive Bayes classifier object\n",
    "clf = MultinomialNB()\n",
    "\n",
    "# Fit the model\n",
    "clf.fit(X_train, y_train)\n",
    "\n",
    "# Perform prediction on the test set\n",
    "y_pred = clf.predict(X_test)\n",
    "\n",
    "# Compute the model accuracy\n",
    "accuracy = accuracy_score(y_test, y_pred)\n",
    "accuracy\n"
   ]
  },
  {
   "cell_type": "markdown",
   "id": "75a0efa9",
   "metadata": {},
   "source": [
    "The Multinomial Naive Bayes classifier achieved an accuracy of approximately 61.15% on the test dataset.\n"
   ]
  },
  {
   "cell_type": "markdown",
   "id": "395cf5db",
   "metadata": {},
   "source": [
    "**8**. TF-IDF(Term Frequency-Inverse Document Frequency) normalizes the\n",
    "document term matrix. It is the product of TF and IDF. Word with high tf-idf in a\n",
    "document, it is most of the times occurred in given documents and must be\n",
    "absent in the other documents. So, the words must be a signature word. Use\n",
    "TfidfVectorizer() for 'Phrase'."
   ]
  },
  {
   "cell_type": "code",
   "execution_count": 8,
   "id": "6d7bd0b6",
   "metadata": {},
   "outputs": [],
   "source": [
    "from sklearn.feature_extraction.text import TfidfVectorizer\n",
    "\n",
    "# Initialize\n",
    "tfidf_vectorizer = TfidfVectorizer(token_pattern=r'\\b[^\\d\\W]+\\b')\n",
    "\n",
    "# Generate TF-IDF \n",
    "X_tfidf = tfidf_vectorizer.fit_transform(data['Phrase'])"
   ]
  },
  {
   "cell_type": "markdown",
   "id": "5d89fda3",
   "metadata": {},
   "source": [
    "**9**. Split dataset by using function train_test_split(). You need to pass basically 3\n",
    "parameters features, target, and test_set size. Additionally, you can use\n",
    "random_state to select records randomly."
   ]
  },
  {
   "cell_type": "code",
   "execution_count": 9,
   "id": "cd0a80c5",
   "metadata": {},
   "outputs": [],
   "source": [
    "# Split the dataset \n",
    "X_train_tfidf, X_test_tfidf, y_train_tfidf, y_test_tfidf = train_test_split(X_tfidf, data['Sentiment'], test_size=0.3, random_state=42)\n"
   ]
  },
  {
   "cell_type": "markdown",
   "id": "5e045bfd",
   "metadata": {},
   "source": [
    "**10**.Build the Text Classification Model using TF-IDF."
   ]
  },
  {
   "cell_type": "code",
   "execution_count": 10,
   "id": "8aab1737",
   "metadata": {},
   "outputs": [],
   "source": [
    "# Create a new Multinomial Naive Bayes classifier object for the TF-IDF features\n",
    "clf_tfidf = MultinomialNB()\n"
   ]
  },
  {
   "cell_type": "markdown",
   "id": "9b9879d0",
   "metadata": {},
   "source": [
    "**11**.First, import the MultinomialNB module and create the Multinomial Naive Bayes\n",
    "classifier object using MultinomialNB() function.\n",
    "\n",
    "**12**.Then, fit your model on a train set using fit() and perform prediction on the test\n",
    "set using predict()."
   ]
  },
  {
   "cell_type": "code",
   "execution_count": 13,
   "id": "8681e213",
   "metadata": {},
   "outputs": [
    {
     "data": {
      "text/plain": [
       "0.580396428723995"
      ]
     },
     "execution_count": 13,
     "metadata": {},
     "output_type": "execute_result"
    }
   ],
   "source": [
    "# Fit the model on the training set using TF-IDF features\n",
    "clf_tfidf.fit(X_train_tfidf, y_train_tfidf)\n",
    "# Perform prediction \n",
    "y_pred_tfidf = clf_tfidf.predict(X_test_tfidf)\n",
    "\n",
    "# Compute the model accuracy\n",
    "accuracy_tfidf = accuracy_score(y_test_tfidf, y_pred_tfidf)\n",
    "accuracy_tfidf\n"
   ]
  },
  {
   "cell_type": "markdown",
   "id": "27103d55",
   "metadata": {},
   "source": [
    "After employing TF-IDF normalization, the Multinomial Naive Bayes classifier achieved an accuracy of about 58.04% on the test dataset. This is slightly lower than the accuracy achieved with count vectorized features, showing that the model's performance can fluctuate based on the chosen normalization technique."
   ]
  },
  {
   "cell_type": "code",
   "execution_count": null,
   "id": "e39b5684",
   "metadata": {},
   "outputs": [],
   "source": []
  },
  {
   "cell_type": "code",
   "execution_count": null,
   "id": "0e8f8534",
   "metadata": {},
   "outputs": [],
   "source": []
  },
  {
   "cell_type": "code",
   "execution_count": null,
   "id": "015814ac",
   "metadata": {},
   "outputs": [],
   "source": []
  }
 ],
 "metadata": {
  "kernelspec": {
   "display_name": "Python 3 (ipykernel)",
   "language": "python",
   "name": "python3"
  },
  "language_info": {
   "codemirror_mode": {
    "name": "ipython",
    "version": 3
   },
   "file_extension": ".py",
   "mimetype": "text/x-python",
   "name": "python",
   "nbconvert_exporter": "python",
   "pygments_lexer": "ipython3",
   "version": "3.9.7"
  }
 },
 "nbformat": 4,
 "nbformat_minor": 5
}
