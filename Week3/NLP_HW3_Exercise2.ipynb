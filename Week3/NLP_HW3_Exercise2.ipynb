{
 "cells": [
  {
   "cell_type": "markdown",
   "id": "b7510221",
   "metadata": {},
   "source": [
    "### Exercise 2"
   ]
  },
  {
   "cell_type": "code",
   "execution_count": 17,
   "id": "94c9bb4d",
   "metadata": {},
   "outputs": [
    {
     "name": "stdout",
     "output_type": "stream",
     "text": [
      "{\n",
      "  \"usage\": {\n",
      "    \"text_units\": 1,\n",
      "    \"text_characters\": 1238,\n",
      "    \"features\": 1\n",
      "  },\n",
      "  \"sentiment\": {\n",
      "    \"document\": {\n",
      "      \"score\": -0.358586,\n",
      "      \"mixed\": \"1\",\n",
      "      \"label\": \"negative\"\n",
      "    }\n",
      "  },\n",
      "  \"language\": \"en\"\n",
      "}\n"
     ]
    }
   ],
   "source": [
    "import requests\n",
    "import json\n",
    "\n",
    "# Setting  IBM Watson NLU API credentials and endpoint\n",
    "apikey = 'qXBbo61tWIEYAPWk1fJByjbyCpfY0hZR3jNc6xvXEka9'\n",
    "url = 'https://api.us-south.natural-language-understanding.watson.cloud.ibm.com/instances/f55ba5ba-4ca9-4ec2-a47b-d72fe26d7fc3/v1/analyze?version=2019-07-12'\n",
    "\n",
    "# The provided text\n",
    "text_to_analyze = \"\"\"Claudine Gay resigned Tuesday as Harvard’s president after weeks of controversy\n",
    "initially sparked by her testimony at a congressional hearing on antisemitism, and later\n",
    "focusing on allegations of plagiarism in work she had produced throughout her academic\n",
    "career. (Gay’s resignation was first reported by the Harvard Crimson.) Plagiarism is a\n",
    "particularly serious charge in academia: In 2021, the president of the University of South\n",
    "Carolina, Lt. Gen. Robert L. Caslen Jr., resigned after admitting that he had plagiarized a\n",
    "commencement speech. Plagiarism includes a broad range of possible offenses, from\n",
    "improperly placing a citation to claiming credit for another scholar’s research or insight,\n",
    "and individual institutions develop their own policies for evaluating and responding to\n",
    "allegations of research misconduct. Gay defended her academic record in an op-ed\n",
    "published Wednesday in the New York Times, saying that she addressed attribution\n",
    "issues promptly after learning about them, and that “I have never misrepresented my\n",
    "research findings, nor have I ever claimed credit for the research of others. Moreover,\n",
    "the citation errors should not obscure a fundamental truth: I proudly stand by my work\n",
    "and its impact on the field.”\"\"\"\n",
    "\n",
    "# Setup the request payload\n",
    "payload = {\n",
    "    \"text\": text_to_analyze,\n",
    "    \"features\": {\n",
    "        \"sentiment\": {}\n",
    "    }\n",
    "}\n",
    "\n",
    "# Making the POST request to the IBM Watson NLU API\n",
    "response = requests.post(url, auth=('apikey', apikey), headers={'Content-Type': 'application/json'}, data=json.dumps(payload))\n",
    "\n",
    "# Check if the request was successful and print the response\n",
    "if response.status_code == 200:\n",
    "    print(json.dumps(response.json(), indent=2))\n",
    "else:\n",
    "    print(f\"Request failed with status code {response.status_code}: {response.text}\")\n"
   ]
  },
  {
   "cell_type": "markdown",
   "id": "7d6b297b",
   "metadata": {},
   "source": [
    "## Comparison of Results\n",
    "\n",
    "### IBM Watson NLU Result:\n",
    "\n",
    "- **Score**: -0.358586\n",
    "- **Label**: Negative\n",
    "\n",
    "### Transformer Model Result \n",
    "\n",
    "- **Score**: 0.900300920009613\n",
    "- **Label**: POSITIVE\n",
    "\n",
    "\n",
    "## IBM's Philosophy in Sentiment Analysis\n",
    "\n",
    "IBM Watson identifies complexity in human emotions by detecting not only the dominant sentiment but also mixed sentiments in texts. It provides a detailed view of a text's emotional content through a sentiment score, a label, and an indicator of mixed sentiments.\n",
    "\n"
   ]
  },
  {
   "cell_type": "code",
   "execution_count": null,
   "id": "873fa8ee",
   "metadata": {},
   "outputs": [],
   "source": []
  }
 ],
 "metadata": {
  "kernelspec": {
   "display_name": "Python 3 (ipykernel)",
   "language": "python",
   "name": "python3"
  },
  "language_info": {
   "codemirror_mode": {
    "name": "ipython",
    "version": 3
   },
   "file_extension": ".py",
   "mimetype": "text/x-python",
   "name": "python",
   "nbconvert_exporter": "python",
   "pygments_lexer": "ipython3",
   "version": "3.9.7"
  }
 },
 "nbformat": 4,
 "nbformat_minor": 5
}
