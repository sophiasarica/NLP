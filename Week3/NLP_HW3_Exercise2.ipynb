{
 "cells": [
  {
   "cell_type": "markdown",
   "id": "b7510221",
   "metadata": {},
   "source": [
    "### Exercise 2"
   ]
  },
  {
   "cell_type": "code",
   "execution_count": null,
   "id": "f0919f84",
   "metadata": {},
   "outputs": [],
   "source": [
    "{\n",
    "  \"apikey\": \"qXBbo61tWIEYAPWk1fJByjbyCpfY0hZR3jNc6xvXEka9\",\n",
    "  \"iam_apikey_description\": \"Auto-generated for key crn:v1:bluemix:public:natural-language-understanding:us-south:a/07025eac1b514041b587ca8152e2fbfa:f55ba5ba-4ca9-4ec2-a47b-d72fe26d7fc3:resource-key:1c1686e2-afc2-441c-9e0a-725b36c676c1\",\n",
    "  \"iam_apikey_id\": \"ApiKey-cedc8051-fe3d-477f-ac9a-941149014e6c\",\n",
    "  \"iam_apikey_name\": \"Auto-generated service credentials\",\n",
    "  \"iam_role_crn\": \"crn:v1:bluemix:public:iam::::serviceRole:Manager\",\n",
    "  \"iam_serviceid_crn\": \"crn:v1:bluemix:public:iam-identity::a/07025eac1b514041b587ca8152e2fbfa::serviceid:ServiceId-03abc64b-2ac7-47cf-9d76-e385c9b1067d\",\n",
    "  \"url\": \"https://api.us-south.natural-language-understanding.watson.cloud.ibm.com/instances/f55ba5ba-4ca9-4ec2-a47b-d72fe26d7fc3\"\n",
    "}"
   ]
  },
  {
   "cell_type": "code",
   "execution_count": null,
   "id": "b740c88a",
   "metadata": {},
   "outputs": [],
   "source": [
    "curl -X POST -u \"apikey:qXBbo61tWIEYAPWk1fJByjbyCpfY0hZR3jNc6xvXEka9\" --header \"Content-Type: application/json\" --data '{\n",
    "  \"text\": \"I love apples! I do not like oranges.\",\n",
    "  \"features\": {\n",
    "    \"sentiment\": {\n",
    "      \"targets\": [\n",
    "        \"apples\",\n",
    "        \"oranges\",\n",
    "        \"broccoli\"\n",
    "      ]\n",
    "    },\n",
    "    \"keywords\": {\n",
    "      \"emotion\": true\n",
    "    }\n",
    "  }\n",
    "}' \"https://api.us-south.natural-language-understanding.watson.cloud.ibm.com/instances/f55ba5ba-4ca9-4ec2-a47b-d72fe26d7fc3/v1/analyze?version=2019-07-12\""
   ]
  },
  {
   "cell_type": "code",
   "execution_count": 3,
   "id": "c1a8cd76",
   "metadata": {},
   "outputs": [
    {
     "name": "stdout",
     "output_type": "stream",
     "text": [
      "{'usage': {'text_units': 1, 'text_characters': 37, 'features': 2}, 'sentiment': {'targets': [{'text': 'apples', 'score': 0.975706, 'label': 'positive'}, {'text': 'oranges', 'score': 0, 'label': 'neutral'}], 'document': {'score': 0.975706, 'label': 'positive'}}, 'language': 'en', 'keywords': [{'text': 'apples', 'relevance': 0.74128, 'emotion': {'sadness': 0.020855, 'joy': 0.988253, 'fear': 0.075412, 'disgust': 0.016976, 'anger': 0.016175}, 'count': 1}, {'text': 'oranges', 'relevance': 0.74128, 'emotion': {'sadness': 0.100796, 'joy': 0.37857, 'fear': 0.032404, 'disgust': 0.022672, 'anger': 0.016069}, 'count': 1}]}\n"
     ]
    }
   ],
   "source": [
    "import requests\n",
    "import json\n",
    "\n",
    "# Set up the endpoint and authentication details\n",
    "url = \"https://api.us-south.natural-language-understanding.watson.cloud.ibm.com/instances/f55ba5ba-4ca9-4ec2-a47b-d72fe26d7fc3/v1/analyze?version=2019-07-12\"\n",
    "apikey = \"qXBbo61tWIEYAPWk1fJByjbyCpfY0hZR3jNc6xvXEka9\"\n",
    "auth = (\"apikey\", apikey)\n",
    "\n",
    "# Define the headers and data payload for the POST request\n",
    "headers = {\"Content-Type\": \"application/json\"}\n",
    "data = {\n",
    "    \"text\": \"I love apples! I do not like oranges.\",\n",
    "    \"features\": {\n",
    "        \"sentiment\": {\n",
    "            \"targets\": [\n",
    "                \"apples\",\n",
    "                \"oranges\",\n",
    "                \"broccoli\"\n",
    "            ]\n",
    "        },\n",
    "        \"keywords\": {\n",
    "            \"emotion\": True\n",
    "        }\n",
    "    }\n",
    "}\n",
    "\n",
    "# Make the POST request to the IBM Watson NLU service\n",
    "response = requests.post(url, headers=headers, auth=auth, data=json.dumps(data))\n",
    "\n",
    "# Check if the request was successful\n",
    "if response.status_code == 200:\n",
    "    # Print the JSON response from the server\n",
    "    print(response.json())\n",
    "else:\n",
    "    print(f\"Request failed with status code {response.status_code}: {response.text}\")\n"
   ]
  },
  {
   "cell_type": "code",
   "execution_count": 4,
   "id": "2e343488",
   "metadata": {},
   "outputs": [
    {
     "name": "stdout",
     "output_type": "stream",
     "text": [
      "   PhraseId  SentenceId                                             Phrase  \\\n",
      "0         1           1  A series of escapades demonstrating the adage ...   \n",
      "1         2           1  A series of escapades demonstrating the adage ...   \n",
      "2         3           1                                           A series   \n",
      "3         4           1                                                  A   \n",
      "4         5           1                                             series   \n",
      "\n",
      "   Sentiment  \n",
      "0          1  \n",
      "1          2  \n",
      "2          2  \n",
      "3          2  \n",
      "4          2  \n"
     ]
    }
   ],
   "source": [
    "import pandas as pd\n",
    "\n",
    "# Load the dataset\n",
    "file_path = 'train.csv'  \n",
    "df = pd.read_csv(file_path)\n",
    "\n",
    "\n",
    "print(df.head())\n"
   ]
  },
  {
   "cell_type": "code",
   "execution_count": 5,
   "id": "40104a72",
   "metadata": {},
   "outputs": [],
   "source": [
    "import requests\n",
    "import json\n",
    "\n",
    "def analyze_sentiment(text):\n",
    "    url = \"https://api.us-south.natural-language-understanding.watson.cloud.ibm.com/instances/f55ba5ba-4ca9-4ec2-a47b-d72fe26d7fc3/v1/analyze?version=2019-07-12\"\n",
    "    apikey = \"qXBbo61tWIEYAPWk1fJByjbyCpfY0hZR3jNc6xvXEka9\"\n",
    "    auth = (\"apikey\", apikey)\n",
    "    headers = {\"Content-Type\": \"application/json\"}\n",
    "    data = {\n",
    "        \"text\": text,\n",
    "        \"features\": {\n",
    "            \"sentiment\": {},\n",
    "            \"keywords\": {\n",
    "                \"emotion\": True\n",
    "            }\n",
    "        }\n",
    "    }\n",
    "    \n",
    "    response = requests.post(url, headers=headers, auth=auth, data=json.dumps(data))\n",
    "    if response.status_code == 200:\n",
    "        return response.json()\n",
    "    else:\n",
    "        return {\"error\": f\"Request failed with status code {response.status_code}: {response.text}\"}\n"
   ]
  },
  {
   "cell_type": "code",
   "execution_count": 6,
   "id": "b98bc8fb",
   "metadata": {},
   "outputs": [
    {
     "name": "stdout",
     "output_type": "stream",
     "text": [
      "Result for text 'A series of escapades demonstrating the adage that what is good for the goose is also good for the gander , some of which occasionally amuses but none of which amounts to much of a story .': {'usage': {'text_units': 1, 'text_characters': 188, 'features': 2}, 'sentiment': {'document': {'score': 0.555778, 'label': 'positive'}}, 'language': 'en', 'keywords': [{'text': 'series of escapades', 'relevance': 0.996985, 'emotion': {'sadness': 0.560418, 'joy': 0.38559, 'fear': 0.014334, 'disgust': 0.022577, 'anger': 0.042823}, 'count': 1}, {'text': 'adage', 'relevance': 0.625947, 'emotion': {'sadness': 0.560418, 'joy': 0.38559, 'fear': 0.014334, 'disgust': 0.022577, 'anger': 0.042823}, 'count': 1}, {'text': 'goose', 'relevance': 0.615387, 'emotion': {'sadness': 0.560418, 'joy': 0.38559, 'fear': 0.014334, 'disgust': 0.022577, 'anger': 0.042823}, 'count': 1}, {'text': 'gander', 'relevance': 0.597874, 'emotion': {'sadness': 0.560418, 'joy': 0.38559, 'fear': 0.014334, 'disgust': 0.022577, 'anger': 0.042823}, 'count': 1}, {'text': 'none', 'relevance': 0.572872, 'emotion': {'sadness': 0.560418, 'joy': 0.38559, 'fear': 0.014334, 'disgust': 0.022577, 'anger': 0.042823}, 'count': 1}, {'text': 'story', 'relevance': 0.541081, 'emotion': {'sadness': 0.560418, 'joy': 0.38559, 'fear': 0.014334, 'disgust': 0.022577, 'anger': 0.042823}, 'count': 1}]}\n",
      "Result for text 'A series of escapades demonstrating the adage that what is good for the goose': {'usage': {'text_units': 1, 'text_characters': 77, 'features': 2}, 'sentiment': {'document': {'score': 0, 'label': 'neutral'}}, 'language': 'en', 'keywords': [{'text': 'series of escapades', 'relevance': 0.999671, 'emotion': {'sadness': 0.513039, 'joy': 0.454936, 'fear': 0.020671, 'disgust': 0.007426, 'anger': 0.052147}, 'count': 1}, {'text': 'adage', 'relevance': 0.663188, 'emotion': {'sadness': 0.513039, 'joy': 0.454936, 'fear': 0.020671, 'disgust': 0.007426, 'anger': 0.052147}, 'count': 1}, {'text': 'goose', 'relevance': 0.613217, 'emotion': {'sadness': 0.513039, 'joy': 0.454936, 'fear': 0.020671, 'disgust': 0.007426, 'anger': 0.052147}, 'count': 1}]}\n",
      "Result for text 'A series': {'error': 'Request failed with status code 422: {\\n  \"error\": \"not enough text for language id\",\\n  \"code\": 422\\n}'}\n",
      "Result for text 'A': {'error': 'Request failed with status code 422: {\\n  \"error\": \"not enough text for language id\",\\n  \"code\": 422\\n}'}\n",
      "Result for text 'series': {'error': 'Request failed with status code 422: {\\n  \"error\": \"not enough text for language id\",\\n  \"code\": 422\\n}'}\n"
     ]
    }
   ],
   "source": [
    "# Example: Analyze the first 5 phrases from the dataset\n",
    "for index, row in df.head().iterrows():\n",
    "\n",
    "    text = row['Phrase']  \n",
    "    result = analyze_sentiment(text)\n",
    "    print(f\"Result for text '{text}': {result}\")\n"
   ]
  },
  {
   "cell_type": "code",
   "execution_count": null,
   "id": "94c9bb4d",
   "metadata": {},
   "outputs": [],
   "source": []
  },
  {
   "cell_type": "code",
   "execution_count": null,
   "id": "7c97a253",
   "metadata": {},
   "outputs": [],
   "source": []
  },
  {
   "cell_type": "code",
   "execution_count": null,
   "id": "873fa8ee",
   "metadata": {},
   "outputs": [],
   "source": []
  }
 ],
 "metadata": {
  "kernelspec": {
   "display_name": "Python 3 (ipykernel)",
   "language": "python",
   "name": "python3"
  },
  "language_info": {
   "codemirror_mode": {
    "name": "ipython",
    "version": 3
   },
   "file_extension": ".py",
   "mimetype": "text/x-python",
   "name": "python",
   "nbconvert_exporter": "python",
   "pygments_lexer": "ipython3",
   "version": "3.9.7"
  }
 },
 "nbformat": 4,
 "nbformat_minor": 5
}
