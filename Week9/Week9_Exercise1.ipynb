{
  "nbformat": 4,
  "nbformat_minor": 0,
  "metadata": {
    "colab": {
      "provenance": []
    },
    "kernelspec": {
      "name": "python3",
      "display_name": "Python 3"
    },
    "language_info": {
      "name": "python"
    }
  },
  "cells": [
    {
      "cell_type": "code",
      "execution_count": 1,
      "metadata": {
        "colab": {
          "base_uri": "https://localhost:8080/"
        },
        "id": "odJpmKz3wFOu",
        "outputId": "9b9aa260-0024-4950-886b-b8f3be353678"
      },
      "outputs": [
        {
          "output_type": "stream",
          "name": "stderr",
          "text": [
            "[nltk_data] Downloading package punkt to /root/nltk_data...\n",
            "[nltk_data]   Unzipping tokenizers/punkt.zip.\n",
            "[nltk_data] Downloading package wordnet to /root/nltk_data...\n",
            "[nltk_data] Downloading package stopwords to /root/nltk_data...\n",
            "[nltk_data]   Unzipping corpora/stopwords.zip.\n"
          ]
        },
        {
          "output_type": "execute_result",
          "data": {
            "text/plain": [
              "True"
            ]
          },
          "metadata": {},
          "execution_count": 1
        }
      ],
      "source": [
        "import nltk\n",
        "from nltk.tokenize import word_tokenize\n",
        "from nltk.stem import WordNetLemmatizer\n",
        "from nltk.corpus import stopwords\n",
        "nltk.download('punkt')\n",
        "nltk.download('wordnet')\n",
        "nltk.download('stopwords')"
      ]
    },
    {
      "cell_type": "code",
      "source": [
        "def simplified_jaccard_similarity(doc1, doc2):\n",
        "    tokens1 = doc1.lower().split()\n",
        "    tokens2 = doc2.lower().split()\n",
        "\n",
        "    lemmas1 = {token.rstrip('s') for token in tokens1}\n",
        "    lemmas2 = {token.rstrip('s') for token in tokens2}\n",
        "\n",
        "    intersection = lemmas1.intersection(lemmas2)\n",
        "    union = lemmas1.union(lemmas2)\n",
        "    similarity = len(intersection) / len(union) if union else 0\n",
        "    return similarity\n",
        "\n",
        "def calculate_similarity_for_pairs(pairs):\n",
        "    for index, pair in enumerate(pairs, start=1):\n",
        "        similarity = simplified_jaccard_similarity(pair[0], pair[1])\n",
        "        print(f\"Jaccard Similarity for pair {index}: {similarity:.2f}\")\n",
        "\n",
        "pairs = [\n",
        "    [\"What you do defines you\", \"Your deeds define you\"],\n",
        "    [\"Once upon a time there lived a king.\", \"Who is your queen?\"],\n",
        "    [\"He is desperate\", \"Is he not desperate?\"]\n",
        "]\n",
        "\n",
        "calculate_similarity_for_pairs(pairs)\n"
      ],
      "metadata": {
        "colab": {
          "base_uri": "https://localhost:8080/"
        },
        "id": "5_62PjZUy0-E",
        "outputId": "e8768f9d-431b-455b-d3e8-f132f385b550"
      },
      "execution_count": 2,
      "outputs": [
        {
          "output_type": "stream",
          "name": "stdout",
          "text": [
            "Jaccard Similarity for pair 1: 0.33\n",
            "Jaccard Similarity for pair 2: 0.00\n",
            "Jaccard Similarity for pair 3: 0.40\n"
          ]
        }
      ]
    },
    {
      "cell_type": "markdown",
      "source": [
        "What is the Jaccard similarity index between pair1[0] and pair1[1]?\n",
        "\n",
        "\n",
        "0.33"
      ],
      "metadata": {
        "id": "9_-ISEXqzgvG"
      }
    },
    {
      "cell_type": "code",
      "source": [],
      "metadata": {
        "id": "YCGdUExTzHag"
      },
      "execution_count": null,
      "outputs": []
    }
  ]
}