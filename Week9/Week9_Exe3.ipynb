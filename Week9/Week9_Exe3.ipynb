{
  "nbformat": 4,
  "nbformat_minor": 0,
  "metadata": {
    "colab": {
      "provenance": []
    },
    "kernelspec": {
      "name": "python3",
      "display_name": "Python 3"
    },
    "language_info": {
      "name": "python"
    }
  },
  "cells": [
    {
      "cell_type": "code",
      "execution_count": 2,
      "metadata": {
        "colab": {
          "base_uri": "https://localhost:8080/"
        },
        "id": "3_hHGasM4Nu1",
        "outputId": "155ed97d-bd94-40f9-c295-520d0adc4cf9"
      },
      "outputs": [
        {
          "output_type": "stream",
          "name": "stderr",
          "text": [
            "[nltk_data] Downloading package punkt to /root/nltk_data...\n",
            "[nltk_data]   Unzipping tokenizers/punkt.zip.\n",
            "[nltk_data] Downloading package stopwords to /root/nltk_data...\n",
            "[nltk_data]   Unzipping corpora/stopwords.zip.\n"
          ]
        },
        {
          "output_type": "execute_result",
          "data": {
            "text/plain": [
              "['european',\n",
              " 'countries',\n",
              " 'reporting',\n",
              " 'record',\n",
              " 'numbers',\n",
              " 'covid19',\n",
              " 'cases',\n",
              " 'continent',\n",
              " 'prepares',\n",
              " 'pandemic']"
            ]
          },
          "metadata": {},
          "execution_count": 2
        }
      ],
      "source": [
        "import re\n",
        "import nltk\n",
        "from nltk.tokenize import word_tokenize\n",
        "from nltk.corpus import stopwords\n",
        "from gensim.models import Word2Vec\n",
        "nltk.download('punkt')\n",
        "nltk.download('stopwords')\n",
        "\n",
        "file_path = 'Europe_Covid.txt'\n",
        "\n",
        "with open(file_path, 'r', encoding='utf-8') as file:\n",
        "    europe_covid_text = file.read()\n",
        "\n",
        "def preprocess_text(text):\n",
        "    text = text.lower()\n",
        "    text = re.sub(r'[^a-zA-Z0-9\\s]', '', text)\n",
        "    tokens = word_tokenize(text)\n",
        "    filtered_words = [word for word in tokens if word not in stopwords.words('english')]\n",
        "    return filtered_words\n",
        "\n",
        "preprocessed_data = preprocess_text(europe_covid_text)\n",
        "\n",
        "preprocessed_data[:10]\n"
      ]
    },
    {
      "cell_type": "code",
      "source": [
        "def simple_preprocess_text(text):\n",
        "    text = text.lower()\n",
        "    text = re.sub(r'[^a-zA-Z0-9\\s]', '', text)\n",
        "    return tokens\n",
        "\n",
        "simple_preprocessed_data = simple_preprocess_text(europe_covid_text)\n",
        "\n",
        "simple_preprocessed_data[:10]\n"
      ],
      "metadata": {
        "colab": {
          "base_uri": "https://localhost:8080/"
        },
        "id": "-nPsChyX7DfS",
        "outputId": "decde3d9-c4ff-4261-ed49-88558b49105c"
      },
      "execution_count": 3,
      "outputs": [
        {
          "output_type": "execute_result",
          "data": {
            "text/plain": [
              "['european',\n",
              " 'countries',\n",
              " 'are',\n",
              " 'reporting',\n",
              " 'record',\n",
              " 'numbers',\n",
              " 'of',\n",
              " 'covid19',\n",
              " 'cases',\n",
              " 'as']"
            ]
          },
          "metadata": {},
          "execution_count": 3
        }
      ]
    },
    {
      "cell_type": "code",
      "source": [
        "w2v_input_data = [simple_preprocess_text(sentence) for sentence in europe_covid_text.split('.')]\n",
        "\n",
        "w2v_model = Word2Vec(min_count=1, window=5, vector_size=100, sample=6e-5, alpha=0.03, min_alpha=0.0007, negative=20, workers=1)\n",
        "w2v_model.build_vocab(w2v_input_data)\n",
        "w2v_model.train(w2v_input_data, total_examples=w2v_model.corpus_count, epochs=30)\n",
        "\n",
        "similar_words_government = w2v_model.wv.most_similar('government', topn=5) if 'government' in w2v_model.wv else \"Word 'government' not in vocabulary\"\n",
        "similar_words_curfew = w2v_model.wv.most_similar('curfew', topn=5) if 'curfew' in w2v_model.wv else \"Word 'curfew' not in vocabulary\"\n",
        "\n"
      ],
      "metadata": {
        "id": "-m5UNE3v6WT4"
      },
      "execution_count": 7,
      "outputs": []
    },
    {
      "cell_type": "code",
      "source": [
        "similar_words_government\n"
      ],
      "metadata": {
        "colab": {
          "base_uri": "https://localhost:8080/"
        },
        "id": "7zmT_TD37QOn",
        "outputId": "a39c6e91-92fe-45b9-d61a-882b37428a57"
      },
      "execution_count": 6,
      "outputs": [
        {
          "output_type": "execute_result",
          "data": {
            "text/plain": [
              "[('estimates', 0.2841702401638031),\n",
              " ('speech', 0.2495124340057373),\n",
              " ('have', 0.24307982623577118),\n",
              " ('from', 0.24264861643314362),\n",
              " ('isolate', 0.2306818664073944)]"
            ]
          },
          "metadata": {},
          "execution_count": 6
        }
      ]
    },
    {
      "cell_type": "code",
      "source": [
        "similar_words_curfew\n"
      ],
      "metadata": {
        "colab": {
          "base_uri": "https://localhost:8080/"
        },
        "id": "JD7t9Auv7JTl",
        "outputId": "7af6def0-dcaa-41a8-bcc1-e9781c95fd25"
      },
      "execution_count": 5,
      "outputs": [
        {
          "output_type": "execute_result",
          "data": {
            "text/plain": [
              "[('pandemic', 0.3649963140487671),\n",
              " ('since', 0.332381933927536),\n",
              " ('appeal', 0.3171386122703552),\n",
              " ('officially', 0.3149731755256653),\n",
              " ('their', 0.3129030168056488)]"
            ]
          },
          "metadata": {},
          "execution_count": 5
        }
      ]
    },
    {
      "cell_type": "code",
      "source": [],
      "metadata": {
        "id": "5u87c7-k7Mgm"
      },
      "execution_count": null,
      "outputs": []
    }
  ]
}